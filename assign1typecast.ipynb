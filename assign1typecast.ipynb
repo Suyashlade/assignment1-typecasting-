{
 "cells": [
  {
   "cell_type": "code",
   "execution_count": 3,
   "id": "5278c86e-5554-4505-a028-866fb63a9d8f",
   "metadata": {},
   "outputs": [
    {
     "name": "stdout",
     "output_type": "stream",
     "text": [
      "12.0\n"
     ]
    }
   ],
   "source": [
    "a=12\n",
    "b=float(a)\n",
    "print(b)"
   ]
  },
  {
   "cell_type": "code",
   "execution_count": 12,
   "id": "ec9d3620-c1a9-4266-8145-67159b741055",
   "metadata": {},
   "outputs": [
    {
     "name": "stdout",
     "output_type": "stream",
     "text": [
      "13\n",
      "14\n"
     ]
    }
   ],
   "source": [
    "a=13.999999999999\n",
    "b=int(a)\n",
    "print(b)\n",
    "b=round(a)\n",
    "print(b)"
   ]
  },
  {
   "cell_type": "code",
   "execution_count": 17,
   "id": "827aba3d-b948-4f6c-9893-7fc378ab6bee",
   "metadata": {},
   "outputs": [
    {
     "name": "stdout",
     "output_type": "stream",
     "text": [
      "15\n"
     ]
    },
    {
     "data": {
      "text/plain": [
       "str"
      ]
     },
     "execution_count": 17,
     "metadata": {},
     "output_type": "execute_result"
    }
   ],
   "source": [
    "i=15\n",
    "s=str(i)\n",
    "print(s)\n",
    "type(s)"
   ]
  },
  {
   "cell_type": "code",
   "execution_count": 21,
   "id": "8336f0a5-f018-4e0c-8080-d0573ebc9fb6",
   "metadata": {},
   "outputs": [
    {
     "name": "stdout",
     "output_type": "stream",
     "text": [
      "(1, 2, 3, 4)\n",
      "(1, 2, 3, 4)\n"
     ]
    }
   ],
   "source": [
    "l=[1,2,3,4]\n",
    "t=tuple(l)\n",
    "print(t)\n",
    "print((*l, ))#method2"
   ]
  },
  {
   "cell_type": "code",
   "execution_count": 23,
   "id": "e0e6c23e-c17d-4560-ae80-026904ec0a86",
   "metadata": {},
   "outputs": [
    {
     "name": "stdout",
     "output_type": "stream",
     "text": [
      "[1, 2, 3, 4]\n",
      "[1, 2, 3, 4]\n"
     ]
    }
   ],
   "source": [
    "tu=(1,2,3,4)\n",
    "li=list(tu)\n",
    "print(li)\n",
    "print([*tu, ])"
   ]
  },
  {
   "cell_type": "code",
   "execution_count": 27,
   "id": "c5bdea83-dff1-4cd7-bbe7-b854f9a5b0df",
   "metadata": {},
   "outputs": [
    {
     "name": "stdout",
     "output_type": "stream",
     "text": [
      "0b101\n",
      "101\n"
     ]
    }
   ],
   "source": [
    "d=5\n",
    "bi=bin(d)\n",
    "print(bi)\n",
    "print(bi[2:])"
   ]
  },
  {
   "cell_type": "code",
   "execution_count": 30,
   "id": "9f289e57-cee9-4dce-abbc-951fc855d1dc",
   "metadata": {},
   "outputs": [
    {
     "name": "stdout",
     "output_type": "stream",
     "text": [
      "True\n"
     ]
    }
   ],
   "source": [
    "n=12 #the no. having any positive or negative integer ,then it is consider as \"True\"\n",
    "bo=bool(n)\n",
    "print(bo)"
   ]
  },
  {
   "cell_type": "code",
   "execution_count": null,
   "id": "14be70ec-d240-4a2e-ad53-f2c3c44c79ac",
   "metadata": {},
   "outputs": [],
   "source": []
  }
 ],
 "metadata": {
  "kernelspec": {
   "display_name": "Python 3 (ipykernel)",
   "language": "python",
   "name": "python3"
  },
  "language_info": {
   "codemirror_mode": {
    "name": "ipython",
    "version": 3
   },
   "file_extension": ".py",
   "mimetype": "text/x-python",
   "name": "python",
   "nbconvert_exporter": "python",
   "pygments_lexer": "ipython3",
   "version": "3.11.4"
  }
 },
 "nbformat": 4,
 "nbformat_minor": 5
}
